{
  "cells": [
    {
      "cell_type": "markdown",
      "metadata": {
        "id": "M7YkReVnwPhW"
      },
      "source": [
        "# Algorithms implementation: K-Means\n",
        "\n",
        "## Theory (reference: The Hundred-page Machine Learning book)\n",
        "\n",
        "The k-means clustering algorithm works as follows.\n",
        "\n",
        "1) First, you choose k — the number of clusters.\n",
        "\n",
        "2) Then you randomly put k feature vectors, called centroids, to the feature space.\n",
        "3) We then compute the distance from each example x to each centroid c using some metric, like the Euclidean distance.\n",
        "4) Then we assign the closest centroid to each example (like if we labeled each example with a centroid id as the label).\n",
        "5) For each centroid, we calculate the average feature vector of the examples labeled with it. These average feature vectors become the new locations of the centroids.\n",
        "6) We recompute the distance from each example to each centroid, modify the assignment and repeat the procedure until the assignments don’t change after the centroid locations were recomputed.\n",
        "\n",
        "The model is the list of assignments of centroids IDs to the examples."
      ]
    },
    {
      "cell_type": "code",
      "execution_count": null,
      "metadata": {
        "id": "982_Ug1gwPha",
        "outputId": "fd6a4c23-3658-424c-cf0d-6b7724f12806"
      },
      "outputs": [
        {
          "data": {
            "text/plain": [
              "<matplotlib.collections.PathCollection at 0x2562309c708>"
            ]
          },
          "execution_count": 6,
          "metadata": {},
          "output_type": "execute_result"
        },
        {
          "data": {
            "image/png": "[encoded data removed]",
            "text/plain": [
              "<Figure size 640x480 with 1 Axes>"
            ]
          },
          "metadata": {},
          "output_type": "display_data"
        }
      ],
      "source": [
        "import numpy as np\n",
        "import matplotlib.pyplot as plt\n",
        "\n",
        "from sklearn.datasets import make_blobs\n",
        "\n",
        "X, y = make_blobs(n_samples = 10,\n",
        "                  centers = 3,\n",
        "                  cluster_std = 2,\n",
        "                  n_features = 2,\n",
        "                  random_state = 42)\n",
        "\n",
        "\n",
        "plt.scatter(X[:, 0], X[:, 1], c = y)"
      ]
    },
    {
      "cell_type": "markdown",
      "metadata": {
        "id": "cZkQMDRMwPhd"
      },
      "source": [
        "### check"
      ]
    },
    {
      "cell_type": "code",
      "execution_count": null,
      "metadata": {
        "id": "YgLf0lmGwPhe",
        "outputId": "c155010b-3b81-4977-906b-c4a6b082efa7"
      },
      "outputs": [
        {
          "name": "stdout",
          "output_type": "stream",
          "text": [
            "[[-3.94832965 -7.33166219]\n",
            " [-7.96839264 -6.65826441]\n",
            " [ 2.6142166   2.60166435]\n",
            " [-6.74457078 -9.72960597]\n",
            " [-2.02527308  5.18772564]\n",
            " [-3.44814639 10.09940622]\n",
            " [ 0.64922801 10.54915559]\n",
            " [ 1.19004317  0.84859463]\n",
            " [ 2.82383069 -0.85143772]\n",
            " [-3.43603301  8.08282662]] \n",
            "\n",
            "\n",
            " [2 2 1 2 0 0 0 1 1 0]\n"
          ]
        }
      ],
      "source": [
        "print(X, '\\n\\n\\n', y)"
      ]
    },
    {
      "cell_type": "markdown",
      "metadata": {
        "id": "s55ByN_6wPhe"
      },
      "source": [
        "## Euclidian Distance (function)"
      ]
    },
    {
      "cell_type": "code",
      "execution_count": null,
      "metadata": {
        "id": "vVjiZx8pwPhf"
      },
      "outputs": [],
      "source": [
        "def euclidean_distance(X, centroids):\n",
        "\n",
        "    '''\n",
        "    Input:\n",
        "\n",
        "    X = numpy.ndarray\n",
        "    centroids = list of numpy.ndarray\n",
        "\n",
        "    Output:\n",
        "\n",
        "    array_euc_distance = numpy.ndarray\n",
        "\n",
        "    '''\n",
        "\n",
        "    array_euc_distance = np.zeros((X.shape[0], len(centroids)))\n",
        "\n",
        "    for j in range(X.shape[0]):\n",
        "\n",
        "        lst_euc_distance = []\n",
        "\n",
        "        for i in range(len(centroids)):\n",
        "            euc_distance = np.linalg.norm(X[j] - centroids[i])\n",
        "            lst_euc_distance.append(euc_distance)\n",
        "\n",
        "        array_euc_distance[j, :] = lst_euc_distance\n",
        "\n",
        "    return array_euc_distance"
      ]
    },
    {
      "cell_type": "markdown",
      "metadata": {
        "id": "Sy96OyGkwPhf"
      },
      "source": [
        "## K-Means (class)"
      ]
    },
    {
      "cell_type": "code",
      "execution_count": null,
      "metadata": {
        "id": "dogsNrd1wPhg"
      },
      "outputs": [],
      "source": [
        "class MyK_Means():\n",
        "\n",
        "    def __init__(self, k, max_iter):\n",
        "\n",
        "        '''\n",
        "        Input:\n",
        "\n",
        "        k = number of clusters\n",
        "        max_iter = max number of iterations\n",
        "\n",
        "        '''\n",
        "\n",
        "        self.k = k\n",
        "        self.max_iter = max_iter\n",
        "\n",
        "    def predict(self, X):\n",
        "\n",
        "        '''\n",
        "        Input:\n",
        "\n",
        "        X = numpy.ndarray\n",
        "\n",
        "        Output:\n",
        "\n",
        "        predict labels\n",
        "\n",
        "        '''\n",
        "\n",
        "        # create a random centroid\n",
        "        random_centroids = []\n",
        "\n",
        "        for i in range(self.k):\n",
        "\n",
        "            # create random indices to initialize\n",
        "            # a random position of the centroide\n",
        "            idx = np.random.randint(len(X)-1)\n",
        "\n",
        "            # X.shape[1] -> to set the size equal to  the number of columns\n",
        "            random_centroids.append(np.random.choice(X[idx], size = X.shape[1], replace = False))\n",
        "\n",
        "\n",
        "        # compute the distance from each example m to each centroid\n",
        "        # by using the Euclidean distance.\n",
        "        euclidean_dist = euclidean_distance(X, random_centroids)\n",
        "\n",
        "        y_hat = np.zeros((y.shape)) # make np.ndarray with the shape of y\n",
        "\n",
        "        # find the closest centroid\n",
        "        for i in range(X.shape[1]):\n",
        "\n",
        "            y_hat[i] = np.argmin(euclidean_dist[i, :])\n",
        "\n",
        "        # assign the closest centroid to the points\n",
        "        for i in range(self.k):\n",
        "\n",
        "            for _ in np.where(y_hat == i):\n",
        "\n",
        "                X_new = np.mean(X[i], axis = 0)\n",
        "\n",
        ""
      ]
    },
    {
      "cell_type": "markdown",
      "metadata": {
        "id": "xDTrw-TAwPhg"
      },
      "source": [
        "# code test"
      ]
    },
    {
      "cell_type": "code",
      "execution_count": null,
      "metadata": {
        "id": "kj9HKkX3wPhh",
        "outputId": "c34fdd4b-ff9c-4e47-ac81-364aa10a4925"
      },
      "outputs": [
        {
          "data": {
            "text/plain": [
              "[array([-2.02527308,  5.18772564]),\n",
              " array([2.6142166 , 2.60166435]),\n",
              " array([-9.72960597, -6.74457078])]"
            ]
          },
          "execution_count": 8,
          "metadata": {},
          "output_type": "execute_result"
        }
      ],
      "source": [
        "random_centroids = []\n",
        "for i in range(3):\n",
        "    idx = np.random.randint(len(X)-1)\n",
        "    # X.shape[1] -> to set the size equal to  the number of lines\n",
        "    random_centroids.append(np.random.choice(X[idx], size = X.shape[1], replace = False))\n",
        "\n",
        "random_centroids\n",
        ""
      ]
    },
    {
      "cell_type": "code",
      "execution_count": null,
      "metadata": {
        "id": "aZOdQznvwPhh",
        "outputId": "6d54960f-da69-422f-fa75-8656cab319d1"
      },
      "outputs": [
        {
          "data": {
            "text/plain": [
              "array([2, 2, 1, 2, 0, 0, 0, 1, 1, 0])"
            ]
          },
          "execution_count": 9,
          "metadata": {},
          "output_type": "execute_result"
        }
      ],
      "source": [
        "euclidean_dist = euclidean_distance(X, random_centroids)\n",
        "\n",
        "y_hat = y # make a copy of labels\n",
        "\n",
        "for i in range(X.shape[0]):\n",
        "\n",
        "    y_hat[i] = np.argmin(euclidean_dist[i, :])\n",
        "\n",
        "y_hat"
      ]
    },
    {
      "cell_type": "code",
      "execution_count": null,
      "metadata": {
        "id": "QmLSsupHwPhh",
        "outputId": "7b7f176f-0cc0-408f-f7c1-886564ee9264"
      },
      "outputs": [
        {
          "data": {
            "text/plain": [
              "array([2, 2, 1, 2, 0, 0, 0, 1, 1, 0])"
            ]
          },
          "execution_count": 164,
          "metadata": {},
          "output_type": "execute_result"
        }
      ],
      "source": [
        "y"
      ]
    },
    {
      "cell_type": "code",
      "execution_count": null,
      "metadata": {
        "id": "XVPYVeTNwPhi",
        "outputId": "7c8090f6-ed2f-43a0-f1cc-f424e5c1497b"
      },
      "outputs": [
        {
          "name": "stdout",
          "output_type": "stream",
          "text": [
            "0\n",
            "[[-2.02527308  5.18772564]\n",
            " [-3.44814639 10.09940622]\n",
            " [ 0.64922801 10.54915559]\n",
            " [-3.43603301  8.08282662]] \n",
            "\n",
            "[-2.06505612  8.47977852]\n",
            "1\n",
            "[[ 2.6142166   2.60166435]\n",
            " [ 1.19004317  0.84859463]\n",
            " [ 2.82383069 -0.85143772]] \n",
            "\n",
            "[2.20936348 0.86627375]\n",
            "2\n",
            "[[-3.94832965 -7.33166219]\n",
            " [-7.96839264 -6.65826441]\n",
            " [-6.74457078 -9.72960597]] \n",
            "\n",
            "[-6.22043103 -7.90651086]\n"
          ]
        }
      ],
      "source": [
        "for j in range(3):\n",
        "\n",
        "    for i in np.where(y_hat == j):\n",
        "        print (j)\n",
        "        # points =\n",
        "        print(X[i], '\\n')\n",
        "        print(np.mean(X[i], axis = 0))"
      ]
    },
    {
      "cell_type": "code",
      "execution_count": null,
      "metadata": {
        "id": "rKcu6vRZwPhi",
        "outputId": "4fece85c-5691-4b6a-9334-d159f47f77f8"
      },
      "outputs": [
        {
          "data": {
            "text/plain": [
              "-2.0650561175"
            ]
          },
          "execution_count": 22,
          "metadata": {},
          "output_type": "execute_result"
        }
      ],
      "source": [
        "lst = [-2.02527308, -3.44814639, 0.64922801, -3.43603301]\n",
        "sum(lst) / len(lst)"
      ]
    },
    {
      "cell_type": "code",
      "execution_count": null,
      "metadata": {
        "id": "a_UauoU_wPhi",
        "outputId": "760f3328-11df-4786-8ec6-d6dcd0cbe43a"
      },
      "outputs": [
        {
          "data": {
            "text/plain": [
              "9.164061793668221"
            ]
          },
          "execution_count": 40,
          "metadata": {},
          "output_type": "execute_result"
        }
      ],
      "source": [
        "np.mean(euclidean_dist[-1:])"
      ]
    },
    {
      "cell_type": "code",
      "execution_count": null,
      "metadata": {
        "id": "4AnGm5lUwPhi",
        "outputId": "9aa74bcb-b791-4576-bd30-ed59d6c95ecc"
      },
      "outputs": [
        {
          "data": {
            "text/plain": [
              "array([[12.66622352, 11.90537649,  5.81100956],\n",
              "       [13.2532317 , 14.06193084,  1.76332673],\n",
              "       [ 5.31155132,  0.        , 15.48296052],\n",
              "       [15.64603953, 15.48054032,  4.22147724],\n",
              "       [ 0.        ,  5.31155132, 14.20339548],\n",
              "       [ 5.11362636,  9.6420111 , 17.97710476],\n",
              "       [ 5.99148455,  8.18680628, 20.16911417],\n",
              "       [ 5.40058483,  2.25865522, 13.30018414],\n",
              "       [ 7.74501784,  3.45945833, 13.86786894],\n",
              "       [ 3.22053618,  8.16386306, 16.10778614]])"
            ]
          },
          "execution_count": 50,
          "metadata": {},
          "output_type": "execute_result"
        }
      ],
      "source": [
        "euclidean_dist"
      ]
    },
    {
      "cell_type": "code",
      "execution_count": null,
      "metadata": {
        "id": "hQ3aOmE2wPhj",
        "outputId": "7dd7474d-4247-4dbc-9679-6e87e76b83be"
      },
      "outputs": [
        {
          "data": {
            "text/plain": [
              "array([0., 0., 0., 0., 0., 0., 0., 0., 0., 0.])"
            ]
          },
          "execution_count": 52,
          "metadata": {},
          "output_type": "execute_result"
        }
      ],
      "source": [
        "y_hat = np.zeros((y.shape))\n",
        "y_hat"
      ]
    },
    {
      "cell_type": "code",
      "execution_count": null,
      "metadata": {
        "id": "owvlw8RHwPhj",
        "outputId": "db436c70-3ba3-4629-94bd-88632f1d7ce4"
      },
      "outputs": [
        {
          "data": {
            "text/plain": [
              "(10,)"
            ]
          },
          "execution_count": 54,
          "metadata": {},
          "output_type": "execute_result"
        }
      ],
      "source": [
        "y.shape"
      ]
    },
    {
      "cell_type": "code",
      "execution_count": null,
      "metadata": {
        "id": "LmaJ-SN5wPhj",
        "outputId": "5ff73697-1b23-4e3e-bae5-af0e35affda2"
      },
      "outputs": [
        {
          "data": {
            "text/plain": [
              "numpy.ndarray"
            ]
          },
          "execution_count": 60,
          "metadata": {},
          "output_type": "execute_result"
        }
      ],
      "source": [
        "type(np.zeros((3, 2)) )"
      ]
    },
    {
      "cell_type": "code",
      "execution_count": null,
      "metadata": {
        "id": "TluM2vu7wPhj",
        "outputId": "05a9b1bc-b70e-4399-a203-6983e296bac8"
      },
      "outputs": [
        {
          "data": {
            "text/plain": [
              "[array([-2.02527308,  5.18772564]),\n",
              " array([2.6142166 , 2.60166435]),\n",
              " array([-9.72960597, -6.74457078]),\n",
              " array([-6.74457078, -9.72960597]),\n",
              " array([-9.72960597, -6.74457078]),\n",
              " array([-9.72960597, -6.74457078]),\n",
              " array([-9.72960597, -6.74457078]),\n",
              " array([-9.72960597, -6.74457078]),\n",
              " array([-6.74457078, -9.72960597])]"
            ]
          },
          "execution_count": 66,
          "metadata": {},
          "output_type": "execute_result"
        }
      ],
      "source": [
        "random_centroids.append(np.random.choice(X[idx], size = X.shape[1], replace = False))\n",
        "random_centroids"
      ]
    },
    {
      "cell_type": "code",
      "execution_count": null,
      "metadata": {
        "id": "Vz-brrXjwPhj",
        "outputId": "d13c5671-0387-44a0-8524-0ed6b5b71fab"
      },
      "outputs": [
        {
          "data": {
            "text/plain": [
              "[array([-2.02527308,  5.18772564]),\n",
              " array([2.6142166 , 2.60166435]),\n",
              " array([-9.72960597, -6.74457078]),\n",
              " array([-6.74457078, -9.72960597]),\n",
              " array([-9.72960597, -6.74457078]),\n",
              " array([-9.72960597, -6.74457078]),\n",
              " array([-9.72960597, -6.74457078]),\n",
              " array([-9.72960597, -6.74457078]),\n",
              " array([-6.74457078, -9.72960597])]"
            ]
          },
          "execution_count": 69,
          "metadata": {},
          "output_type": "execute_result"
        }
      ],
      "source": [
        "random_centroids"
      ]
    },
    {
      "cell_type": "code",
      "execution_count": null,
      "metadata": {
        "id": "tjiaUVCnwPhk",
        "outputId": "f8f3021a-01ce-4c27-a44a-c0cb6a742492"
      },
      "outputs": [
        {
          "data": {
            "text/plain": [
              "array([[-3.94832965, -7.33166219],\n",
              "       [-7.96839264, -6.65826441],\n",
              "       [ 2.6142166 ,  2.60166435],\n",
              "       [-6.74457078, -9.72960597],\n",
              "       [-2.02527308,  5.18772564],\n",
              "       [-3.44814639, 10.09940622],\n",
              "       [ 0.64922801, 10.54915559],\n",
              "       [ 1.19004317,  0.84859463],\n",
              "       [ 2.82383069, -0.85143772],\n",
              "       [-3.43603301,  8.08282662]])"
            ]
          },
          "execution_count": 70,
          "metadata": {},
          "output_type": "execute_result"
        }
      ],
      "source": [
        "X"
      ]
    }
  ],
  "metadata": {
    "kernelspec": {
      "display_name": "base",
      "language": "python",
      "name": "python3"
    },
    "language_info": {
      "codemirror_mode": {
        "name": "ipython",
        "version": 3
      },
      "file_extension": ".py",
      "mimetype": "text/x-python",
      "name": "python",
      "nbconvert_exporter": "python",
      "pygments_lexer": "ipython3",
      "version": "3.7.15"
    },
    "orig_nbformat": 4,
    "colab": {
      "provenance": []
    }
  },
  "nbformat": 4,
  "nbformat_minor": 0
}