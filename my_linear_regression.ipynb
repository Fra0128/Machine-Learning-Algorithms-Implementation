{
 "cells": [
  {
   "attachments": {},
   "cell_type": "markdown",
   "metadata": {},
   "source": [
    "# Algorithms implementation: Linear Regression"
   ]
  },
  {
   "cell_type": "markdown",
   "metadata": {},
   "source": [
    "## Linear Regression by gradient descent: MyLinearRegression"
   ]
  },
  {
   "cell_type": "code",
   "execution_count": 5,
   "metadata": {},
   "outputs": [],
   "source": [
    "import numpy as np\n",
    "\n",
    "\n",
    "class MyLinearRegression:\n",
    "    \n",
    "    def __init__(self, learning_rate = 0.01, n_iterations = 1000):\n",
    "        self.lr = learning_rate\n",
    "        self.n_iter = n_iterations\n",
    "        self.weights = 0\n",
    "        self.bias = 0\n",
    "        \n",
    "        \n",
    "    def fit(self, X, y):\n",
    "        m_samples, n_features = X.shape\n",
    "        self.weights = np.zeros(n_features)\n",
    "        \n",
    "        for i in range(self.n_iter):\n",
    "            y_hat = np.dot(X, self.weights) + self.bias\n",
    "            \n",
    "            d_weights = (1/m_samples) * np.dot(X.T, (y_hat - y))\n",
    "            d_bias = (1/m_samples) * np.sum(y_hat - y)\n",
    "            \n",
    "            self.weights = self.weights - self.lr * d_weights\n",
    "            self.bias = self.bias - self.lr * d_bias\n",
    "            \n",
    "            \n",
    "    def predict(self, X):\n",
    "        y_hat = np.dot(X, self.weights) + self.bias\n",
    "        return y_hat\n",
    "    "
   ]
  },
  {
   "attachments": {},
   "cell_type": "markdown",
   "metadata": {},
   "source": [
    "### Test"
   ]
  },
  {
   "cell_type": "code",
   "execution_count": 6,
   "metadata": {},
   "outputs": [
    {
     "name": "stdout",
     "output_type": "stream",
     "text": [
      "regression score (1): 0.9787484433557133\n"
     ]
    }
   ],
   "source": [
    "from sklearn import datasets\n",
    "from sklearn.model_selection import train_test_split\n",
    "from sklearn.metrics import r2_score\n",
    "\n",
    "X, y = datasets.make_regression(n_samples = 300, n_features = 2, noise = 10, random_state = 42)\n",
    "X_train, X_test, y_train, y_test = train_test_split(X, y, test_size = 0.2, random_state = 42)\n",
    "\n",
    "\n",
    "\n",
    "model = MyLinearRegression()\n",
    "model.fit(X_train, y_train)\n",
    "prediction = model.predict(X_test)\n",
    "\n",
    "reg_score_1 = r2_score(prediction, y_test)\n",
    "print('regression score (1): {}'.format(reg_score_1))"
   ]
  },
  {
   "attachments": {},
   "cell_type": "markdown",
   "metadata": {},
   "source": [
    "## scikit-learn"
   ]
  },
  {
   "cell_type": "code",
   "execution_count": 7,
   "metadata": {},
   "outputs": [
    {
     "name": "stdout",
     "output_type": "stream",
     "text": [
      "regression score (2): 0.978752413087773\n"
     ]
    }
   ],
   "source": [
    "from sklearn.linear_model import LinearRegression\n",
    "\n",
    "\n",
    "model2 = LinearRegression()\n",
    "model2.fit(X_train, y_train)\n",
    "prediction2 = model2.predict(X_test)\n",
    "\n",
    "reg_score_2 = r2_score(prediction2, y_test)\n",
    "print('regression score (2): {}'.format(reg_score_2))"
   ]
  },
  {
   "cell_type": "markdown",
   "metadata": {},
   "source": [
    "## Linear Regression by OLS: MyLinearRegressionOLS"
   ]
  },
  {
   "cell_type": "code",
   "execution_count": 8,
   "metadata": {},
   "outputs": [],
   "source": [
    "class MyLinearRegressionOLS():\n",
    "\n",
    "    def __init__(self):\n",
    "        pass\n",
    "\n",
    "    def fit(self, X, y):\n",
    "        \n",
    "        self.w = np.linalg.inv(X.T @ X) @ X.T @ y\n",
    "\n",
    "    def predict(self, X):\n",
    "\n",
    "        y_pred = X @ self.w \n",
    "        return y_pred"
   ]
  },
  {
   "cell_type": "markdown",
   "metadata": {},
   "source": [
    "### Test"
   ]
  },
  {
   "cell_type": "code",
   "execution_count": 9,
   "metadata": {},
   "outputs": [
    {
     "name": "stdout",
     "output_type": "stream",
     "text": [
      "0.9785151976441309\n"
     ]
    }
   ],
   "source": [
    "model_3 = MyLinearRegressionOLS()\n",
    "model_3.fit(X_train, y_train)\n",
    "prediction_3 = model_3.predict(X_test)\n",
    "\n",
    "reg_score_3 = r2_score(prediction_3, y_test)\n",
    "print(reg_score_3)"
   ]
  },
  {
   "cell_type": "markdown",
   "metadata": {},
   "source": [
    "## MyLinearegression vs MylinearRegressionOLS vs scikit-learn"
   ]
  },
  {
   "cell_type": "code",
   "execution_count": 11,
   "metadata": {},
   "outputs": [
    {
     "name": "stdout",
     "output_type": "stream",
     "text": [
      "regression score (MyLinearRegression): 0.9787484433557133\n",
      "regression score (scikit-learn): 0.978752413087773\n",
      "regression score (MyLinearRegressionOLS): 0.9785151976441309\n"
     ]
    }
   ],
   "source": [
    "print('regression score (MyLinearRegression): {}'.format(reg_score_1))\n",
    "print('regression score (scikit-learn): {}'.format(reg_score_2))\n",
    "print('regression score (MyLinearRegressionOLS): {}'.format(reg_score_3))"
   ]
  }
 ],
 "metadata": {
  "kernelspec": {
   "display_name": "base",
   "language": "python",
   "name": "python3"
  },
  "language_info": {
   "codemirror_mode": {
    "name": "ipython",
    "version": 3
   },
   "file_extension": ".py",
   "mimetype": "text/x-python",
   "name": "python",
   "nbconvert_exporter": "python",
   "pygments_lexer": "ipython3",
   "version": "3.7.15"
  },
  "orig_nbformat": 4
 },
 "nbformat": 4,
 "nbformat_minor": 2
}
